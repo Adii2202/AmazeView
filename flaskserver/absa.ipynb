{
 "cells": [
  {
   "cell_type": "code",
   "execution_count": 1,
   "metadata": {},
   "outputs": [
    {
     "name": "stderr",
     "output_type": "stream",
     "text": [
      "c:\\Users\\ditec\\anaconda3\\envs\\crescendo\\lib\\site-packages\\tqdm\\auto.py:21: TqdmWarning: IProgress not found. Please update jupyter and ipywidgets. See https://ipywidgets.readthedocs.io/en/stable/user_install.html\n",
      "  from .autonotebook import tqdm as notebook_tqdm\n",
      "model.safetensors: 100%|██████████| 433M/433M [00:42<00:00, 10.1MB/s] \n",
      "tokenizer_config.json: 100%|██████████| 388/388 [00:00<00:00, 128kB/s]\n",
      "vocab.txt: 100%|██████████| 213k/213k [00:00<00:00, 442kB/s]\n",
      "special_tokens_map.json: 100%|██████████| 125/125 [00:00<00:00, 14.0kB/s]\n"
     ]
    }
   ],
   "source": [
    "# Use a pipeline as a high-level helper\n",
    "from transformers import pipeline\n",
    "\n",
    "pipe = pipeline(\"text-classification\", model=\"owaiskha9654/Multi-Label-Classification-of-PubMed-Articles\")"
   ]
  },
  {
   "cell_type": "code",
   "execution_count": 2,
   "metadata": {},
   "outputs": [
    {
     "data": {
      "text/plain": [
       "[{'label': 'Technology, Industry, and Agriculture [J]',\n",
       "  'score': 0.6106784343719482}]"
      ]
     },
     "execution_count": 2,
     "metadata": {},
     "output_type": "execute_result"
    }
   ],
   "source": [
    "pipe(\" Great Product , Value for Money,  Original product,  great quality. Good quality Very very nice Toothpaste Le sakte ho Worth the value I bought it for @281 pack of 4×200g and 2nd time @546 for 8×200gToothpaste is no doubt best but the packaging is ordenary it should be improved and sometime the price gets high otherwise happy with the product 😊😊 This is very good paste. Good 👍 Product quality is very good at good price of 277 1) Effect on teeth: It claims to solve many teeth problems, maybe there is effect but I didnt notice any.2) Sensitivity: Maybe not great for sensitive teeth. But not too bad.3) Taste: Tastes like some ayurvedic recipe. Not bad.4) Ingredients: Has many natural ingredients and minimal chemicals compared to other pastes.5) Price: The 3+1 combos are so much cheaper than the single ones. There are 100g, 150g, 200g variants in 3+1 combos, so check whichever you can afford and whichever is on biggger discount.Overall: Holygrail toothpaste. Would repurchase till I find a better cheaper alternative. Nice Indian product world's very reasonablly with very reasonable rate Good\")"
   ]
  },
  {
   "cell_type": "code",
   "execution_count": null,
   "metadata": {},
   "outputs": [],
   "source": []
  }
 ],
 "metadata": {
  "kernelspec": {
   "display_name": "crescendo",
   "language": "python",
   "name": "python3"
  },
  "language_info": {
   "codemirror_mode": {
    "name": "ipython",
    "version": 3
   },
   "file_extension": ".py",
   "mimetype": "text/x-python",
   "name": "python",
   "nbconvert_exporter": "python",
   "pygments_lexer": "ipython3",
   "version": "3.8.18"
  }
 },
 "nbformat": 4,
 "nbformat_minor": 2
}
